{
 "cells": [
  {
   "cell_type": "markdown",
   "id": "1ab4386b",
   "metadata": {},
   "source": [
    "## Learn the Basicのコード"
   ]
  },
  {
   "cell_type": "code",
   "execution_count": 2,
   "id": "00627094",
   "metadata": {},
   "outputs": [],
   "source": [
    "import torch\n",
    "import numpy as np\n",
    "import matplotlib.pyplot as plt\n",
    "import pandas as pd\n",
    "import os\n",
    "\n",
    "from torch import nn\n",
    "from torch.utils.data import Dataset\n",
    "from torch.utils.data import DataLoader\n",
    "from torchvision import datasets, transforms\n",
    "from torchvision.transforms import ToTensor, Lambda\n",
    "from torchvision.io import decode_image\n"
   ]
  },
  {
   "cell_type": "markdown",
   "id": "cdbeec08",
   "metadata": {},
   "source": [
    "### テンソル"
   ]
  },
  {
   "cell_type": "code",
   "execution_count": 3,
   "id": "8eb55670",
   "metadata": {},
   "outputs": [],
   "source": [
    "data = [[1, 2], [3, 4]]\n",
    "x_data = torch.tensor(data)"
   ]
  },
  {
   "cell_type": "code",
   "execution_count": 4,
   "id": "617b6f74",
   "metadata": {},
   "outputs": [
    {
     "data": {
      "text/plain": [
       "array([[1, 2],\n",
       "       [3, 4]])"
      ]
     },
     "metadata": {},
     "output_type": "display_data"
    },
    {
     "data": {
      "text/plain": [
       "tensor([[1, 2],\n",
       "        [3, 4]])"
      ]
     },
     "metadata": {},
     "output_type": "display_data"
    }
   ],
   "source": [
    "np_array = np.array(data)\n",
    "# numpy -> tensor\n",
    "x_np = torch.from_numpy(np_array)\n",
    "display(np_array)\n",
    "display(x_np)"
   ]
  },
  {
   "cell_type": "code",
   "execution_count": 5,
   "id": "2f727ba7",
   "metadata": {},
   "outputs": [
    {
     "name": "stdout",
     "output_type": "stream",
     "text": [
      "Ones tensor: \n",
      " tensor([[1, 1],\n",
      "        [1, 1]]) \n",
      "\n",
      "Random Trnsor: \n",
      " tensor([[0.6702, 0.6123],\n",
      "        [0.8468, 0.8504]]) \n",
      "\n"
     ]
    }
   ],
   "source": [
    "#　xx_likeで引数に変数を入れると、その引数の型やサイズが引き継がれる\n",
    "x_ones = torch.ones_like(x_data)\n",
    "print(f'Ones tensor: \\n {x_ones} \\n')\n",
    "\n",
    "x_rand = torch.rand_like(x_data, dtype=torch.float)\n",
    "print(f'Random Trnsor: \\n {x_rand} \\n')"
   ]
  },
  {
   "cell_type": "code",
   "execution_count": 6,
   "id": "5bd77286",
   "metadata": {},
   "outputs": [
    {
     "name": "stdout",
     "output_type": "stream",
     "text": [
      "Random Tensor: \n",
      " tensor([[0.8407, 0.7265, 0.7751],\n",
      "        [0.3446, 0.0265, 0.1332]]) \n",
      "\n",
      "Ones Tensor: \n",
      " tensor([[1., 1., 1.],\n",
      "        [1., 1., 1.]]) \n",
      "\n",
      "Zeros Tensor: \n",
      " tensor([[0., 0., 0.],\n",
      "        [0., 0., 0.]]) \n",
      "\n"
     ]
    }
   ],
   "source": [
    "# サイズを明示的に渡すことも可能。(タプルで)\n",
    "shape=(2,3,)\n",
    "rand_tensor = torch.rand(shape)\n",
    "ones_tensor = torch.ones(shape)\n",
    "zeros_tensor = torch.zeros(shape)\n",
    "\n",
    "print(f'Random Tensor: \\n {rand_tensor} \\n')\n",
    "print(f'Ones Tensor: \\n {ones_tensor} \\n')\n",
    "print(f'Zeros Tensor: \\n {zeros_tensor} \\n')"
   ]
  },
  {
   "cell_type": "code",
   "execution_count": 7,
   "id": "39028d91",
   "metadata": {},
   "outputs": [
    {
     "name": "stdout",
     "output_type": "stream",
     "text": [
      "Shape of tensor: torch.Size([3, 4])\n",
      "Datatype of tendor: torch.float32\n",
      "Device tensor is stored on: cpu\n"
     ]
    }
   ],
   "source": [
    "# tensor型の情報を確認\n",
    "tensor = torch.rand(3,4)\n",
    "print(f'Shape of tensor: {tensor.shape}')\n",
    "print(f'Datatype of tendor: {tensor.dtype}')\n",
    "print(f'Device tensor is stored on: {tensor.device}')"
   ]
  },
  {
   "cell_type": "code",
   "execution_count": 8,
   "id": "4f23b446",
   "metadata": {},
   "outputs": [
    {
     "name": "stdout",
     "output_type": "stream",
     "text": [
      "Using GPU: NVIDIA RTX A6000\n"
     ]
    }
   ],
   "source": [
    "# We move our tensor to the current accelerator if available\n",
    "# これはエラーになります。理由は、PyTorchのtorchモジュールには「accelerator」という属性（メソッドやクラス）は存在しないためです。\n",
    "# 以前は一部の環境や拡張ライブラリで「accelerator」というAPIがあったかもしれませんが、公式のPyTorch本体にはそのような機能はありません。\n",
    "# 現在、PyTorchでデバイス（CPU/GPU）を判定・移動するには下記のようにtorch.cudaを使います。\n",
    "\n",
    "if torch.cuda.is_available():\n",
    "    tensor = tensor.to('cuda')\n",
    "    print(f\"Using GPU: {torch.cuda.get_device_name(0)}\")\n",
    "else:\n",
    "    tensor = tensor.to('cpu')\n",
    "    print(f\"Using CPU\")\n"
   ]
  },
  {
   "cell_type": "code",
   "execution_count": 9,
   "id": "8178ea4c",
   "metadata": {},
   "outputs": [
    {
     "name": "stdout",
     "output_type": "stream",
     "text": [
      "First row: tensor([1., 1., 1., 1.])\n",
      "First column: tensor([1., 1., 1., 1.])\n",
      "Last column: tensor([1., 1., 1., 1.])\n",
      "tensor([[1., 0., 1., 1.],\n",
      "        [1., 0., 1., 1.],\n",
      "        [1., 0., 1., 1.],\n",
      "        [1., 0., 1., 1.]])\n"
     ]
    }
   ],
   "source": [
    "# numpyのようなインデックス操作も可能\n",
    "tensor = torch.ones(4, 4)\n",
    "print(f\"First row: {tensor[0]}\")\n",
    "print(f\"First column: {tensor[:, 0]}\")\n",
    "print(f\"Last column: {tensor[..., -1]}\")\n",
    "tensor[:,1] = 0\n",
    "print(tensor)"
   ]
  },
  {
   "cell_type": "code",
   "execution_count": 10,
   "id": "ffab727c",
   "metadata": {},
   "outputs": [
    {
     "name": "stdout",
     "output_type": "stream",
     "text": [
      "tensor([[1., 0., 1., 1., 1., 0., 1., 1.],\n",
      "        [1., 0., 1., 1., 1., 0., 1., 1.],\n",
      "        [1., 0., 1., 1., 1., 0., 1., 1.],\n",
      "        [1., 0., 1., 1., 1., 0., 1., 1.]])\n"
     ]
    }
   ],
   "source": [
    "# テンソルの結合\n",
    "t1 = torch.cat([tensor, tensor], dim=1)\n",
    "print(t1)"
   ]
  },
  {
   "cell_type": "code",
   "execution_count": 11,
   "id": "f2bdbf0d",
   "metadata": {},
   "outputs": [
    {
     "name": "stdout",
     "output_type": "stream",
     "text": [
      "tensor: tensor([[1., 0., 1., 1.],\n",
      "        [1., 0., 1., 1.],\n",
      "        [1., 0., 1., 1.],\n",
      "        [1., 0., 1., 1.]]) \n",
      "\n",
      "y1: tensor([[3., 3., 3., 3.],\n",
      "        [3., 3., 3., 3.],\n",
      "        [3., 3., 3., 3.],\n",
      "        [3., 3., 3., 3.]]) \n",
      "\n",
      "y2: tensor([[3., 3., 3., 3.],\n",
      "        [3., 3., 3., 3.],\n",
      "        [3., 3., 3., 3.],\n",
      "        [3., 3., 3., 3.]]) \n",
      "\n",
      "y3: tensor([[3., 3., 3., 3.],\n",
      "        [3., 3., 3., 3.],\n",
      "        [3., 3., 3., 3.],\n",
      "        [3., 3., 3., 3.]]) \n",
      "\n",
      "z1: tensor([[1., 0., 1., 1.],\n",
      "        [1., 0., 1., 1.],\n",
      "        [1., 0., 1., 1.],\n",
      "        [1., 0., 1., 1.]]) \n",
      "\n",
      "z2: tensor([[1., 0., 1., 1.],\n",
      "        [1., 0., 1., 1.],\n",
      "        [1., 0., 1., 1.],\n",
      "        [1., 0., 1., 1.]]) \n",
      "\n",
      "z3: tensor([[1., 0., 1., 1.],\n",
      "        [1., 0., 1., 1.],\n",
      "        [1., 0., 1., 1.],\n",
      "        [1., 0., 1., 1.]]) \n",
      "\n"
     ]
    }
   ],
   "source": [
    "# 算術演算\n",
    "# @ でも matmul メソッドでも対応可能\n",
    "y1 = tensor @ tensor.T\n",
    "y2 = tensor.matmul(tensor.T)\n",
    "\n",
    "# inplace表記でも可\n",
    "y3 = torch.rand_like(tensor)\n",
    "torch.matmul(tensor, tensor.T, out=y3)\n",
    "\n",
    "\n",
    "# * でも mul メソッドでも対応可能\n",
    "z1 = tensor * tensor\n",
    "z2 = tensor.mul(tensor)\n",
    "\n",
    "# inplace表記でも可\n",
    "z3 = torch.rand_like(tensor)\n",
    "torch.mul(tensor, tensor, out=z3)\n",
    "\n",
    "print(f'tensor: {tensor} \\n')\n",
    "print(f\"y1: {y1} \\n\")\n",
    "print(f\"y2: {y2} \\n\")\n",
    "print(f\"y3: {y3} \\n\")\n",
    "print(f\"z1: {z1} \\n\")\n",
    "print(f\"z2: {z2} \\n\")\n",
    "print(f\"z3: {z3} \\n\")"
   ]
  },
  {
   "cell_type": "code",
   "execution_count": 12,
   "id": "192677e0",
   "metadata": {},
   "outputs": [
    {
     "name": "stdout",
     "output_type": "stream",
     "text": [
      "agg: 12.0 <class 'torch.Tensor'> \n",
      "\n",
      "agg_item: 12.0 <class 'float'> \n",
      "\n"
     ]
    }
   ],
   "source": [
    "# tensorを集計するメソッドが存在\n",
    "# 一方で、itemメソッドを用いることで、scalarに変換できる\n",
    "agg = tensor.sum()\n",
    "agg_item = agg.item()\n",
    "print(f'agg: {agg} {type(agg)} \\n')\n",
    "print(f'agg_item: {agg_item} {type(agg_item)} \\n')"
   ]
  },
  {
   "cell_type": "code",
   "execution_count": 13,
   "id": "48d4a64e",
   "metadata": {},
   "outputs": [
    {
     "name": "stdout",
     "output_type": "stream",
     "text": [
      "tensor: tensor([[1., 0., 1., 1.],\n",
      "        [1., 0., 1., 1.],\n",
      "        [1., 0., 1., 1.],\n",
      "        [1., 0., 1., 1.]]) \n",
      "\n",
      "tensor: tensor([[6., 5., 6., 6.],\n",
      "        [6., 5., 6., 6.],\n",
      "        [6., 5., 6., 6.],\n",
      "        [6., 5., 6., 6.]]) \n",
      "\n"
     ]
    }
   ],
   "source": [
    "# インプレース操作は新しい変数を作成する必要がないため、メモリ効率が良い一方で、いくつか問題が発生する可能性があるため非奨励\n",
    "print(f'tensor: {tensor} \\n')\n",
    "tensor.add_(5)\n",
    "print(f'tensor: {tensor} \\n')"
   ]
  },
  {
   "cell_type": "code",
   "execution_count": 14,
   "id": "b65f0516",
   "metadata": {},
   "outputs": [
    {
     "name": "stdout",
     "output_type": "stream",
     "text": [
      "t: tensor([1., 1., 1., 1., 1.])\n",
      "n: [1. 1. 1. 1. 1.]\n",
      "t: tensor([2., 2., 2., 2., 2.])\n",
      "n: [2. 2. 2. 2. 2.]\n"
     ]
    }
   ],
   "source": [
    "# tensorとnumpy間で変換を行うとき、\n",
    "# tensorとnumpyの変換\n",
    "t = torch.ones(5)\n",
    "print(f\"t: {t}\")\n",
    "n = t.numpy()\n",
    "print(f\"n: {n}\")\n",
    "\n",
    "t.add_(1)\n",
    "print(f\"t: {t}\")\n",
    "print(f\"n: {n}\")"
   ]
  },
  {
   "cell_type": "code",
   "execution_count": 15,
   "id": "090ef1e7",
   "metadata": {},
   "outputs": [
    {
     "name": "stdout",
     "output_type": "stream",
     "text": [
      "t: tensor([2., 2., 2., 2., 2.], dtype=torch.float64)\n",
      "n: [2. 2. 2. 2. 2.]\n"
     ]
    }
   ],
   "source": [
    "# numpyとtensorの変換\n",
    "n = np.ones(5)\n",
    "t = torch.from_numpy(n)\n",
    "\n",
    "np.add(n, 1, out=n)\n",
    "print(f\"t: {t}\")\n",
    "print(f\"n: {n}\")"
   ]
  },
  {
   "cell_type": "markdown",
   "id": "9286f752",
   "metadata": {},
   "source": [
    "### データセットとデータローダー"
   ]
  },
  {
   "cell_type": "code",
   "execution_count": 16,
   "id": "d5e4f17d",
   "metadata": {},
   "outputs": [],
   "source": [
    "training_data = datasets.FashionMNIST(\n",
    "    root='/share/dtu_drone_tutorial',\n",
    "    train=True,\n",
    "    download=False,\n",
    "    transform=ToTensor()\n",
    ")\n",
    "\n",
    "test_data = datasets.FashionMNIST(\n",
    "    root='/share/dtu_drone_tutorial',\n",
    "    train=False,\n",
    "    download=False,\n",
    "    transform=ToTensor()\n",
    ")"
   ]
  },
  {
   "cell_type": "code",
   "execution_count": 17,
   "id": "2666eebd",
   "metadata": {},
   "outputs": [
    {
     "data": {
      "image/png": "[encoded data removed]",
      "text/plain": [
       "<Figure size 800x800 with 9 Axes>"
      ]
     },
     "metadata": {},
     "output_type": "display_data"
    }
   ],
   "source": [
    "labels_map = {\n",
    "    0: \"T-Shirt\",\n",
    "    1: \"Trouser\",\n",
    "    2: \"Pullover\",\n",
    "    3: \"Dress\",\n",
    "    4: \"Coat\",\n",
    "    5: \"Sandal\",\n",
    "    6: \"Shirt\",\n",
    "    7: \"Sneaker\",\n",
    "    8: \"Bag\",\n",
    "    9: \"Ankle Boot\",\n",
    "}\n",
    "figure = plt.figure(figsize=(8, 8))\n",
    "cols, rows = 3, 3\n",
    "for i in range(1, cols * rows + 1):\n",
    "    sample_idx = torch.randint(len(training_data), size=(1,)).item()\n",
    "    img, label = training_data[sample_idx]\n",
    "    figure.add_subplot(rows, cols, i)\n",
    "    plt.title(labels_map[label])\n",
    "    plt.axis(\"off\")\n",
    "    plt.imshow(img.squeeze(), cmap=\"gray\")\n",
    "plt.show()"
   ]
  },
  {
   "cell_type": "code",
   "execution_count": 18,
   "id": "25773d51",
   "metadata": {},
   "outputs": [],
   "source": [
    "class CustomDataset(Dataset):\n",
    "    def __init__(self, annotations_file, image_dir, transform=None, target_transform=None):\n",
    "        self.img_labels = pd.read_csv(annotations_file)\n",
    "        self.img_dir = image_dir\n",
    "        self.transform = transform\n",
    "        self.target_transform = target_transform\n",
    "\n",
    "    # インスタンス化する時に一度だけ読みだされるメソッド\n",
    "    def __len__(self):\n",
    "        return len(self.img_labels)\n",
    "    \n",
    "    # 呼び出された時に実行されるメソッド\n",
    "    def __getitem__(self, idx):\n",
    "        img_path = os.path.join(self.img_dir, self.img_labels.iloc[idx, 0])\n",
    "        # 画像をtensor型で出力\n",
    "        image = decode_image(img_path)\n",
    "        label = self.img_labels.iloc[idx, 1]\n",
    "\n",
    "        # 学習データや教師データに対して、前処理を施す(存在する場合)\n",
    "        if self.transform:\n",
    "            image = self.transform(image)\n",
    "        if self.target_transform:\n",
    "            label = self.target_transform(label)\n",
    "        return image, label\n",
    "\n"
   ]
  },
  {
   "cell_type": "code",
   "execution_count": null,
   "id": "5b2e0aa7",
   "metadata": {},
   "outputs": [],
   "source": []
  },
  {
   "cell_type": "code",
   "execution_count": 19,
   "id": "a7674116",
   "metadata": {},
   "outputs": [
    {
     "name": "stdout",
     "output_type": "stream",
     "text": [
      "Shape of X [N, C, H, W]: torch.Size([64, 1, 28, 28])\n",
      "Shape of y: torch.Size([64]), torch.int64\n"
     ]
    }
   ],
   "source": [
    "batch_size = 64\n",
    "\n",
    "train_dataloader = DataLoader(training_data, batch_size=batch_size, shuffle=True)\n",
    "test_dataloader = DataLoader(test_data, batch_size=batch_size, shuffle=False)\n",
    "\n",
    "for X, y in test_dataloader:\n",
    "    print(f'Shape of X [N, C, H, W]: {X.shape}')\n",
    "    print(f'Shape of y: {y.shape}, {y.dtype}')\n",
    "    break"
   ]
  },
  {
   "cell_type": "code",
   "execution_count": 20,
   "id": "33a1e8a3",
   "metadata": {},
   "outputs": [
    {
     "name": "stdout",
     "output_type": "stream",
     "text": [
      "Feature batch shape: torch.Size([64, 1, 28, 28])\n",
      "Labels batch shape: torch.Size([64])\n"
     ]
    },
    {
     "data": {
      "image/png": "[encoded data removed]",
      "text/plain": [
       "<Figure size 640x480 with 1 Axes>"
      ]
     },
     "metadata": {},
     "output_type": "display_data"
    },
    {
     "name": "stdout",
     "output_type": "stream",
     "text": [
      "Label: 6\n"
     ]
    }
   ],
   "source": [
    "train_features, train_labels = next(iter(train_dataloader))\n",
    "print(f'Feature batch shape: {train_features.size()}')\n",
    "print(f'Labels batch shape: {train_labels.size()}')\n",
    "\n",
    "img = train_features[0].squeeze()\n",
    "label = train_labels[0]\n",
    "plt.imshow(img, cmap='gray')\n",
    "plt.show()\n",
    "print(f'Label: {label}')"
   ]
  },
  {
   "cell_type": "markdown",
   "id": "3881c90a",
   "metadata": {},
   "source": [
    "### Transforms"
   ]
  },
  {
   "cell_type": "code",
   "execution_count": 21,
   "id": "0eb48748",
   "metadata": {},
   "outputs": [],
   "source": [
    "ds = datasets.FashionMNIST(\n",
    "    root='/share/dtu_drone_tutorial',\n",
    "    train=True,\n",
    "    download=True,\n",
    "    # PIL image or numpy arrayをtensorに変換\n",
    "    transform=ToTensor(), \n",
    "    # 教師データをone-hotエンコーディングに変換\n",
    "    target_transform=Lambda(lambda y: torch.zeros(10, dtype=torch.float).scatter_(0, torch.tensor(y), value=1))\n",
    ")"
   ]
  },
  {
   "cell_type": "markdown",
   "id": "e6b3e13f",
   "metadata": {},
   "source": [
    "### Build the Neural Network"
   ]
  },
  {
   "cell_type": "code",
   "execution_count": 22,
   "id": "a4e3df67",
   "metadata": {},
   "outputs": [
    {
     "name": "stdout",
     "output_type": "stream",
     "text": [
      "Using 0 device\n"
     ]
    }
   ],
   "source": [
    "device = torch.cuda.current_device() if torch.cuda.is_available() else 'cpu'\n",
    "print(f'Using {device} device')"
   ]
  },
  {
   "cell_type": "code",
   "execution_count": 23,
   "id": "1bbe4c14",
   "metadata": {},
   "outputs": [
    {
     "name": "stdout",
     "output_type": "stream",
     "text": [
      "NeuralNetwork(\n",
      "  (flatten): Flatten(start_dim=1, end_dim=-1)\n",
      "  (linear_relu_stack): Sequential(\n",
      "    (0): Linear(in_features=784, out_features=512, bias=True)\n",
      "    (1): ReLU()\n",
      "    (2): Linear(in_features=512, out_features=512, bias=True)\n",
      "    (3): ReLU()\n",
      "    (4): Linear(in_features=512, out_features=10, bias=True)\n",
      "  )\n",
      ")\n"
     ]
    }
   ],
   "source": [
    "class NeuralNetwork(nn.Module):\n",
    "    def __init__(self):\n",
    "        super().__init__()\n",
    "        self.flatten = nn.Flatten()\n",
    "        self.linear_relu_stack = nn.Sequential(\n",
    "            nn.Linear(28*28, 512),\n",
    "            nn.ReLU(),\n",
    "            nn.Linear(512, 512),\n",
    "            nn.ReLU(),\n",
    "            nn.Linear(512, 10),\n",
    "        )\n",
    "\n",
    "    def forward(self, x):\n",
    "        x = self.flatten(x)\n",
    "        logits = self.linear_relu_stack(x)\n",
    "        return logits\n",
    "\n",
    "# GPUにメモリを移行\n",
    "model = NeuralNetwork().to(device)\n",
    "print(model)"
   ]
  },
  {
   "cell_type": "code",
   "execution_count": 24,
   "id": "bd235a67",
   "metadata": {},
   "outputs": [
    {
     "name": "stdout",
     "output_type": "stream",
     "text": [
      "Predicted class: tensor([3], device='cuda:0')\n"
     ]
    }
   ],
   "source": [
    "# 適当な値を入力として、未学習CNNモデルに通して、出力を確認\n",
    "X = torch.rand(1,28,28, device=device)\n",
    "logits = model(X)\n",
    "\n",
    "pred_probab = nn.Softmax(dim=1)(logits)\n",
    "y_pred = pred_probab.argmax(1)\n",
    "print(f'Predicted class: {y_pred}')"
   ]
  },
  {
   "cell_type": "code",
   "execution_count": 25,
   "id": "ff56f1cb",
   "metadata": {},
   "outputs": [
    {
     "name": "stdout",
     "output_type": "stream",
     "text": [
      "torch.Size([3, 28, 28])\n"
     ]
    }
   ],
   "source": [
    "input_image = torch.rand(3,28,28)\n",
    "print(input_image.size())"
   ]
  },
  {
   "cell_type": "code",
   "execution_count": 27,
   "id": "f28aa147",
   "metadata": {},
   "outputs": [
    {
     "name": "stdout",
     "output_type": "stream",
     "text": [
      "torch.Size([3, 784])\n"
     ]
    }
   ],
   "source": [
    "flatten = nn.Flatten()\n",
    "flat_image = flatten(input_image)\n",
    "print(flat_image.size())"
   ]
  },
  {
   "cell_type": "code",
   "execution_count": null,
   "id": "0a273a51",
   "metadata": {},
   "outputs": [
    {
     "name": "stdout",
     "output_type": "stream",
     "text": [
      "torch.Size([3, 20])\n"
     ]
    }
   ],
   "source": [
    "# 画像を一列に変換して、全結合層を通す\n",
    "layer1 = nn.Linear(in_features=28*28, out_features=20)\n",
    "hidden1 = layer1(flat_image)\n",
    "print(hidden1.size())"
   ]
  },
  {
   "cell_type": "markdown",
   "id": "e86a4441",
   "metadata": {},
   "source": [
    "#### ReLUとは\n",
    "\n",
    "ReLUは線形整流関数とも呼ばれ、以下の数式で表されます：\n",
    "\n",
    "**ReLU(x) = max(0, x)**\n",
    "\n",
    "つまり：\n",
    "- 入力が正の値（0より大きい）場合：そのまま出力\n",
    "- 入力が0以下の場合：0を出力\n",
    "\n",
    "ノートブック内でも実際の動作例が示されています：\n",
    "\n",
    "```564:568:analytical_skill_tutorial/pytorch_tutorial/learn_the_basic.ipynb\n",
    "# 活性化関数に入れ込む\n",
    "# ReLUは0以下の値を0に、0より大きい値はそのまま出力する\n",
    "print(f'Before ReLU: {hidden1}\\n\\n')\n",
    "hidden1 = nn.ReLU()(hidden1)\n",
    "print(f'After ReLU: {hidden1}')\n",
    "```\n",
    "\n",
    "実際の出力結果：\n",
    "- 負の値（-0.0047, -0.1205など）→ 0に変換\n",
    "- 正の値（0.2588, 0.0252など）→ そのまま保持\n",
    "\n",
    "##### ReLUの効果\n",
    "\n",
    "##### 1. **非線形性の導入**\n",
    "- ニューラルネットワークに非線形変換を加えることで、複雑なパターンを学習可能にします\n",
    "\n",
    "##### 2. **スパース性（疎性）**\n",
    "- 負の値を0にすることで、ネットワークの一部のニューロンを「無効化」\n",
    "- より効率的な特徴表現が可能\n",
    "\n",
    "##### 3. **生物学的妥当性**\n",
    "- 人間の脳のニューロンの発火パターンに近い動作\n",
    "\n",
    "#### メリット\n",
    "\n",
    "##### 1. **計算効率の向上**\n",
    "- 非常に簡単な計算（max演算のみ）\n",
    "- sigmoid関数やtanh関数のような指数関数計算が不要\n",
    "\n",
    "##### 2. **勾配消失問題の軽減**\n",
    "- 正の値に対して勾配が1と一定\n",
    "- 深いネットワークでも効率的な学習が可能\n",
    "\n",
    "##### 3. **実装の簡単さ**\n",
    "- プログラム実装が非常に簡単\n",
    "- ハードウェア実装も容易\n",
    "\n",
    "##### 4. **学習の高速化**\n",
    "- 収束が早い\n",
    "- 計算コストが低いため学習時間が短縮\n",
    "\n",
    "#### デメリット\n",
    "\n",
    "##### 1. **Dying ReLU問題**\n",
    "- 一度負の値で「死んだ」ニューロンは0しか出力しなくなる\n",
    "- 学習が進まなくなる可能性\n",
    "\n",
    "##### 2. **出力の非対称性**\n",
    "- 出力が0以上の値のみ\n",
    "- データの分布が偏る可能性\n",
    "\n",
    "##### 3. **勾配の不連続性**\n",
    "- x=0で微分不可能\n",
    "- 最適化アルゴリズムに影響を与える場合がある\n",
    "\n",
    "##### 4. **負の入力情報の完全な損失**\n",
    "- 負の値の情報が完全に失われる\n",
    "- 一部の問題では情報損失が問題となる\n",
    "\n",
    "#### 改良版のReLU\n",
    "\n",
    "これらのデメリットを解決するため、以下のような改良版も開発されています：\n",
    "\n",
    "- **Leaky ReLU**: 負の値に小さな勾配を持たせる\n",
    "- **Parametric ReLU (PReLU)**: 負の部分の勾配を学習可能にする\n",
    "- **ELU (Exponential Linear Unit)**: 負の値で指数関数を使用\n",
    "- **Swish**: x * sigmoid(x)の形式\n",
    "\n",
    "ReLUは深層学習の発展に重要な役割を果たした活性化関数で、現在でも多くのケースで標準的に使用されています。"
   ]
  },
  {
   "cell_type": "code",
   "execution_count": null,
   "id": "c022d402",
   "metadata": {},
   "outputs": [
    {
     "name": "stdout",
     "output_type": "stream",
     "text": [
      "Before ReLU: tensor([[ 0.2588, -0.0047, -0.1205, -0.1289,  0.0252,  0.0708, -0.2035, -0.0960,\n",
      "          0.3167, -0.7553,  0.0481,  0.3029, -0.1178, -0.6142, -0.1733,  0.0637,\n",
      "          0.2303,  0.4961,  0.0610, -0.0241],\n",
      "        [ 0.5321,  0.0616,  0.0560, -0.2100, -0.0860,  0.3696, -0.1038, -0.0330,\n",
      "          0.0989, -0.4286,  0.1131,  0.5259, -0.0976, -0.1898, -0.1760, -0.0879,\n",
      "          0.4917,  0.7206, -0.0968, -0.2876],\n",
      "        [ 0.0054, -0.3401,  0.0933, -0.1857, -0.2322, -0.2683, -0.2901,  0.0672,\n",
      "          0.3772, -0.2107, -0.1011,  0.1698, -0.1605, -0.1509,  0.0122,  0.0052,\n",
      "          0.3058,  0.4073,  0.0245, -0.0758]], grad_fn=<AddmmBackward0>)\n",
      "\n",
      "\n",
      "After ReLU: tensor([[0.2588, 0.0000, 0.0000, 0.0000, 0.0252, 0.0708, 0.0000, 0.0000, 0.3167,\n",
      "         0.0000, 0.0481, 0.3029, 0.0000, 0.0000, 0.0000, 0.0637, 0.2303, 0.4961,\n",
      "         0.0610, 0.0000],\n",
      "        [0.5321, 0.0616, 0.0560, 0.0000, 0.0000, 0.3696, 0.0000, 0.0000, 0.0989,\n",
      "         0.0000, 0.1131, 0.5259, 0.0000, 0.0000, 0.0000, 0.0000, 0.4917, 0.7206,\n",
      "         0.0000, 0.0000],\n",
      "        [0.0054, 0.0000, 0.0933, 0.0000, 0.0000, 0.0000, 0.0000, 0.0672, 0.3772,\n",
      "         0.0000, 0.0000, 0.1698, 0.0000, 0.0000, 0.0122, 0.0052, 0.3058, 0.4073,\n",
      "         0.0245, 0.0000]], grad_fn=<ReluBackward0>)\n"
     ]
    }
   ],
   "source": [
    "# 活性化関数に入れ込む\n",
    "# ReLUは0以下の値を0に、0より大きい値はそのまま出力する\n",
    "print(f'Before ReLU: {hidden1}\\n\\n')\n",
    "hidden1 = nn.ReLU()(hidden1)\n",
    "print(f'After ReLU: {hidden1}')"
   ]
  },
  {
   "cell_type": "code",
   "execution_count": null,
   "id": "f340ebcb",
   "metadata": {},
   "outputs": [],
   "source": [
    "# sequentialメソッドは、各モジュールを結合させて、一つのモデルとして扱うことができる\n",
    "seq_modules = nn.Sequential(\n",
    "    flatten,\n",
    "    layer1,\n",
    "    nn.ReLU(),\n",
    "    nn.Linear(20, 10)\n",
    ")\n",
    "input_image = torch.rand(3,28,28)\n",
    "logits = seq_modules(input_image)\n",
    "print(logits)\n",
    "print(logits.size())"
   ]
  },
  {
   "cell_type": "code",
   "execution_count": 30,
   "id": "54867bd3",
   "metadata": {},
   "outputs": [
    {
     "name": "stdout",
     "output_type": "stream",
     "text": [
      "tensor([[0.1057, 0.0970, 0.0963, 0.1066, 0.0944, 0.1000, 0.0953, 0.1012, 0.1011,\n",
      "         0.1024]], device='cuda:0', grad_fn=<SoftmaxBackward0>)\n",
      "torch.Size([1, 10])\n"
     ]
    }
   ],
   "source": [
    "softmax = nn.Softmax(dim=1)\n",
    "pred_probab = softmax(logits)\n",
    "print(pred_probab)\n",
    "print(pred_probab.size())"
   ]
  },
  {
   "cell_type": "code",
   "execution_count": 31,
   "id": "adffe6d5",
   "metadata": {},
   "outputs": [
    {
     "name": "stdout",
     "output_type": "stream",
     "text": [
      "Model structure: NeuralNetwork(\n",
      "  (flatten): Flatten(start_dim=1, end_dim=-1)\n",
      "  (linear_relu_stack): Sequential(\n",
      "    (0): Linear(in_features=784, out_features=512, bias=True)\n",
      "    (1): ReLU()\n",
      "    (2): Linear(in_features=512, out_features=512, bias=True)\n",
      "    (3): ReLU()\n",
      "    (4): Linear(in_features=512, out_features=10, bias=True)\n",
      "  )\n",
      ")\n",
      "\n",
      "\n",
      "Layer: linear_relu_stack.0.weight | Size: torch.Size([512, 784]) | Values : tensor([[-0.0097, -0.0149,  0.0082,  ...,  0.0257, -0.0339, -0.0141],\n",
      "        [-0.0272,  0.0290,  0.0228,  ...,  0.0036,  0.0232, -0.0065]],\n",
      "       device='cuda:0', grad_fn=<SliceBackward0>) \n",
      "\n",
      "Layer: linear_relu_stack.0.bias | Size: torch.Size([512]) | Values : tensor([0.0131, 0.0161], device='cuda:0', grad_fn=<SliceBackward0>) \n",
      "\n",
      "Layer: linear_relu_stack.2.weight | Size: torch.Size([512, 512]) | Values : tensor([[-0.0345, -0.0002,  0.0162,  ..., -0.0269,  0.0046,  0.0045],\n",
      "        [-0.0239, -0.0327,  0.0318,  ..., -0.0321, -0.0248, -0.0344]],\n",
      "       device='cuda:0', grad_fn=<SliceBackward0>) \n",
      "\n",
      "Layer: linear_relu_stack.2.bias | Size: torch.Size([512]) | Values : tensor([0.0056, 0.0010], device='cuda:0', grad_fn=<SliceBackward0>) \n",
      "\n",
      "Layer: linear_relu_stack.4.weight | Size: torch.Size([10, 512]) | Values : tensor([[ 0.0078, -0.0338, -0.0256,  ..., -0.0186, -0.0026,  0.0030],\n",
      "        [-0.0360, -0.0362,  0.0393,  ...,  0.0403,  0.0366,  0.0292]],\n",
      "       device='cuda:0', grad_fn=<SliceBackward0>) \n",
      "\n",
      "Layer: linear_relu_stack.4.bias | Size: torch.Size([10]) | Values : tensor([-0.0386, -0.0412], device='cuda:0', grad_fn=<SliceBackward0>) \n",
      "\n"
     ]
    }
   ],
   "source": [
    "print(f\"Model structure: {model}\\n\\n\")\n",
    "\n",
    "for name, param in model.named_parameters():\n",
    "    print(f\"Layer: {name} | Size: {param.size()} | Values : {param[:2]} \\n\")"
   ]
  },
  {
   "cell_type": "markdown",
   "id": "3b372d74",
   "metadata": {},
   "source": [
    "#### Automatic Differentiation"
   ]
  },
  {
   "cell_type": "code",
   "execution_count": 32,
   "id": "cbaa8ee7",
   "metadata": {},
   "outputs": [],
   "source": [
    "x = torch.ones(5)\n",
    "y = torch.zeros(3)\n",
    "w = torch.randn(5, 3, requires_grad=True)\n",
    "b = torch.randn(3, requires_grad=True)\n",
    "z = torch.matmul(x, w) + b\n",
    "loss = torch.nn.functional.binary_cross_entropy_with_logits(z, y)"
   ]
  },
  {
   "cell_type": "code",
   "execution_count": 33,
   "id": "32e351a4",
   "metadata": {},
   "outputs": [
    {
     "name": "stdout",
     "output_type": "stream",
     "text": [
      "Gradient functinon for z = <AddBackward0 object at 0x7ff9f840d040>\n",
      "Gradient function for loss = <BinaryCrossEntropyWithLogitsBackward0 object at 0x7ff9f840de80>\n"
     ]
    }
   ],
   "source": [
    "print(f'Gradient functinon for z = {z.grad_fn}')\n",
    "print(f'Gradient function for loss = {loss.grad_fn}')"
   ]
  },
  {
   "cell_type": "code",
   "execution_count": null,
   "id": "52ca2995",
   "metadata": {},
   "outputs": [
    {
     "name": "stdout",
     "output_type": "stream",
     "text": [
      "tensor([[0.0356, 0.3125, 0.1389],\n",
      "        [0.0356, 0.3125, 0.1389],\n",
      "        [0.0356, 0.3125, 0.1389],\n",
      "        [0.0356, 0.3125, 0.1389],\n",
      "        [0.0356, 0.3125, 0.1389]])\n",
      "tensor([0.0356, 0.3125, 0.1389])\n"
     ]
    }
   ],
   "source": [
    "# 逆誤差伝搬で求めた勾配を表示\n",
    "# bachwardのタイミングで計算グラフに基づいて逆誤差伝搬を行う\n",
    "loss.backward()\n",
    "print(w.grad)\n",
    "print(b.grad)"
   ]
  },
  {
   "cell_type": "code",
   "execution_count": null,
   "id": "4f1b0459",
   "metadata": {},
   "outputs": [
    {
     "name": "stdout",
     "output_type": "stream",
     "text": [
      "z is a tensor: True\n",
      "z is a tensor: False\n"
     ]
    }
   ],
   "source": [
    "# 勾配計算は自動で行われる。\n",
    "# 勾配計算を行わない場合は、no_grad()を指定する必要がある。\n",
    "z = torch.matmul(x, w) + b\n",
    "print(f\"z is a tensor: {z.requires_grad}\")\n",
    "\n",
    "with torch.no_grad():\n",
    "    z = torch.matmul(x, w) + b\n",
    "print(f\"z is a tensor: {z.requires_grad}\")\n"
   ]
  },
  {
   "cell_type": "code",
   "execution_count": null,
   "id": "e44754e8",
   "metadata": {},
   "outputs": [
    {
     "name": "stdout",
     "output_type": "stream",
     "text": [
      "True\n",
      "False\n"
     ]
    }
   ],
   "source": [
    "# detach関数を行うと、勾配計算が行われなくなる。\n",
    "# GPU内にあるメモリを解放することができる。\n",
    "z = torch.matmul(x, w) + b\n",
    "print(z.requires_grad)\n",
    "\n",
    "z_det = z.detach()\n",
    "print(z_det.requires_grad)\n",
    "\n"
   ]
  },
  {
   "cell_type": "markdown",
   "id": "b043d150",
   "metadata": {},
   "source": [
    "##### **勾配の蓄積**を説明している重要なセル\n",
    "\n",
    "##### 1. **初期設定**\n",
    "- `torch.eye(4, 5)`：4×5の単位行列を作成\n",
    "- `requires_grad=True`：勾配計算を有効化\n",
    "\n",
    "##### 2. **勾配の蓄積現象**\n",
    "- **First call**：初回の`backward()`で勾配が計算される\n",
    "- **Second call**：**勾配が蓄積される**（2倍になっている）\n",
    "\n",
    "##### 3. **勾配のリセット**\n",
    "- `inp.grad.zero_()`：勾配を手動でゼロに初期化\n",
    "- **Call after zeroing gradients**：元の値に戻る\n",
    "\n",
    "##### **重要なポイント**\n",
    "\n",
    "##### **勾配蓄積の仕組み**\n",
    "PyTorchでは`backward()`を複数回呼ぶと：\n",
    "- 勾配が**加算**される（上書きされない）\n",
    "- これは学習ループで意図しない動作を引き起こす可能性\n",
    "\n",
    "##### **`retain_graph=True`**\n",
    "- 計算グラフを保持して複数回`backward()`可能にする\n",
    "- 通常は自動で削除されるため必要\n",
    "\n",
    "##### **実用的な意味**\n",
    "学習ループでは毎回`optimizer.zero_grad()`で勾配をリセットする必要があることを示しています。\n",
    "\n",
    "このセルはPyTorchの**自動微分システムの重要な特性**を理解するための教育的な例となっています。"
   ]
  },
  {
   "cell_type": "code",
   "execution_count": null,
   "id": "dc2cf41c",
   "metadata": {},
   "outputs": [
    {
     "name": "stdout",
     "output_type": "stream",
     "text": [
      "First call\n",
      "tensor([[4., 2., 2., 2., 2.],\n",
      "        [2., 4., 2., 2., 2.],\n",
      "        [2., 2., 4., 2., 2.],\n",
      "        [2., 2., 2., 4., 2.]])\n",
      "\n",
      "Second call\n",
      "tensor([[8., 4., 4., 4., 4.],\n",
      "        [4., 8., 4., 4., 4.],\n",
      "        [4., 4., 8., 4., 4.],\n",
      "        [4., 4., 4., 8., 4.]])\n",
      "\n",
      "Call after zeroing gradients\n",
      "tensor([[4., 2., 2., 2., 2.],\n",
      "        [2., 4., 2., 2., 2.],\n",
      "        [2., 2., 4., 2., 2.],\n",
      "        [2., 2., 2., 4., 2.]])\n"
     ]
    }
   ],
   "source": [
    "inp = torch.eye(4, 5, requires_grad=True)\n",
    "out = (inp+1).pow(2).t()\n",
    "out.backward(torch.ones_like(out), retain_graph=True)\n",
    "print(f\"First call\\n{inp.grad}\")\n",
    "\n",
    "# 同じ処理を行うと、勾配計算が蓄積される\n",
    "out.backward(torch.ones_like(out), retain_graph=True)\n",
    "print(f\"\\nSecond call\\n{inp.grad}\")\n",
    "\n",
    "inp.grad.zero_()\n",
    "out.backward(torch.ones_like(out), retain_graph=True)\n",
    "print(f\"\\nCall after zeroing gradients\\n{inp.grad}\")"
   ]
  },
  {
   "cell_type": "markdown",
   "id": "c8ee1d92",
   "metadata": {},
   "source": [
    "### Optimization Loop"
   ]
  },
  {
   "cell_type": "code",
   "execution_count": null,
   "id": "471bd856",
   "metadata": {},
   "outputs": [],
   "source": [
    "training_data = datasets.FashionMNIST(\n",
    "    root='/share/dtu_drone_tutorial',\n",
    "    train=True,\n",
    "    download=False,\n",
    "    transform=ToTensor()\n",
    ")\n",
    "\n",
    "test_data = datasets.FashionMNIST(\n",
    "    root='/share/dtu_drone_tutorial',\n",
    "    train=False,\n",
    "    download=False,\n",
    "    transform=ToTensor()\n",
    ")\n",
    "\n",
    "train_dataloader = DataLoader(training_data, batch_size=64)\n",
    "test_dataloader = DataLoader(test_data, batch_size=64)\n",
    "\n",
    "# モデルの定義\n",
    "class NeuralNetwork(nn.Module):\n",
    "    def __init__(self):\n",
    "        super().__init__()\n",
    "        self.flatten = nn.Flatten()\n",
    "        self.linear_relu_stack = nn.Sequential(\n",
    "            nn.Linear(28*28, 512),\n",
    "            nn.ReLU(),\n",
    "            nn.Linear(512, 512),\n",
    "            nn.ReLU(),\n",
    "            nn.Linear(512, 10),\n",
    "        )\n",
    "\n",
    "    def forward(self, x):\n",
    "        x = self.flatten(x)\n",
    "        logits = self.linear_relu_stack(x)\n",
    "        return logits\n",
    "\n",
    "model = NeuralNetwork()"
   ]
  },
  {
   "cell_type": "code",
   "execution_count": 48,
   "id": "692951c7",
   "metadata": {},
   "outputs": [],
   "source": [
    "learning_rate = 1e-3\n",
    "batch_size = 64\n",
    "epochs = 5\n",
    "\n",
    "loss_fn = nn.CrossEntropyLoss()\n",
    "optimizer = torch.optim.SGD(model.parameters(), lr=learning_rate)"
   ]
  },
  {
   "cell_type": "code",
   "execution_count": null,
   "id": "eaf3e1fe",
   "metadata": {},
   "outputs": [],
   "source": [
    "def train_loop(dataloader, model, loss_fn, optimizer):\n",
    "    size = len(dataloader.dataset)\n",
    "\n",
    "    model.train()\n",
    "    for batch, (X, y) in enumerate(dataloader):\n",
    "        # モデルに突っ込み、予測値を取得\n",
    "        pred = model(X)\n",
    "        # 正解データ(y)と予測値(pred)の誤差を計算\n",
    "        loss = loss_fn(pred, y)\n",
    "\n",
    "        # 予測誤差を逆伝搬し、各パラメータ(w, b)の勾配を計算\n",
    "        loss.backward()\n",
    "        # 勾配を用いてパラメータを更新\n",
    "        optimizer.step()\n",
    "        # 勾配をリセット(勾配情報をゼロにする)\n",
    "        optimizer.zero_grad()\n",
    "\n",
    "        # batch(64)の値の100回に1回、lossを表示\n",
    "        if batch % 100 == 0:\n",
    "            loss, current = loss.item(), batch * batch_size + len(X)\n",
    "            print(f'loss: {loss:>7f}  [{current:>5d}/{size:>5d}]')\n",
    "\n",
    "def test_loop(dataloader, model, loss_fn):\n",
    "    # モデルを評価モードに変換\n",
    "    # ドロップアウトやバッチ正規化など、学習時に特定の処理を行うメソッドに関して、\n",
    "    # 評価時には、それらの処理が行われないようにするもの。\n",
    "    model.eval()\n",
    "    # データセットのサイズを取得\n",
    "    size = len(dataloader.dataset)\n",
    "    # バッチの数を取得\n",
    "    num_batches = len(dataloader)\n",
    "    test_loss, correct = 0, 0\n",
    "\n",
    "    with torch.no_grad():\n",
    "        for X, y in dataloader:\n",
    "            # モデルに突っ込み、予測値を取得\n",
    "            pred = model(X)\n",
    "            # 正解データ(y)と予測値(pred)の誤差を計算\n",
    "            test_loss += loss_fn(pred, y).item()\n",
    "            # 予測値と正解データとで、正解した数を数える\n",
    "            correct += (pred.argmax(1) == y).type(torch.float).sum().item()\n",
    "\n",
    "    # 平均誤差を計算\n",
    "    test_loss /= num_batches\n",
    "    # 正解率を計算\n",
    "    correct /= size\n",
    "    # 結果を表示\n",
    "    print(f'Test Error: \\n Accuracy: {(100*correct):>0.1f}%, Avg loss: {test_loss:>8f} \\n')\n",
    "\n"
   ]
  },
  {
   "cell_type": "code",
   "execution_count": 50,
   "id": "4de05287",
   "metadata": {},
   "outputs": [
    {
     "name": "stdout",
     "output_type": "stream",
     "text": [
      "Epoch 1\n",
      "-----------------------\n",
      "loss: 2.302622  [   64/60000]\n",
      "loss: 2.284015  [ 6464/60000]\n",
      "loss: 2.274376  [12864/60000]\n",
      "loss: 2.262674  [19264/60000]\n",
      "loss: 2.235325  [25664/60000]\n",
      "loss: 2.217868  [32064/60000]\n",
      "loss: 2.217337  [38464/60000]\n",
      "loss: 2.188179  [44864/60000]\n",
      "loss: 2.180461  [51264/60000]\n",
      "loss: 2.150911  [57664/60000]\n",
      "Test Error: \n",
      " Accuracy: 44.4%, Avg loss: 2.142569 \n",
      "\n",
      "Epoch 2\n",
      "-----------------------\n",
      "loss: 2.154382  [   64/60000]\n",
      "loss: 2.136089  [ 6464/60000]\n",
      "loss: 2.084347  [12864/60000]\n",
      "loss: 2.098646  [19264/60000]\n",
      "loss: 2.032386  [25664/60000]\n",
      "loss: 1.982090  [32064/60000]\n",
      "loss: 2.007234  [38464/60000]\n",
      "loss: 1.924778  [44864/60000]\n",
      "loss: 1.928043  [51264/60000]\n",
      "loss: 1.865826  [57664/60000]\n",
      "Test Error: \n",
      " Accuracy: 51.4%, Avg loss: 1.854416 \n",
      "\n",
      "Epoch 3\n",
      "-----------------------\n",
      "loss: 1.884284  [   64/60000]\n",
      "loss: 1.849306  [ 6464/60000]\n",
      "loss: 1.739589  [12864/60000]\n",
      "loss: 1.786464  [19264/60000]\n",
      "loss: 1.669716  [25664/60000]\n",
      "loss: 1.629572  [32064/60000]\n",
      "loss: 1.657552  [38464/60000]\n",
      "loss: 1.557528  [44864/60000]\n",
      "loss: 1.583418  [51264/60000]\n",
      "loss: 1.499827  [57664/60000]\n",
      "Test Error: \n",
      " Accuracy: 60.9%, Avg loss: 1.502739 \n",
      "\n",
      "Epoch 4\n",
      "-----------------------\n",
      "loss: 1.558203  [   64/60000]\n",
      "loss: 1.527894  [ 6464/60000]\n",
      "loss: 1.391346  [12864/60000]\n",
      "loss: 1.467803  [19264/60000]\n",
      "loss: 1.351438  [25664/60000]\n",
      "loss: 1.346369  [32064/60000]\n",
      "loss: 1.365953  [38464/60000]\n",
      "loss: 1.290693  [44864/60000]\n",
      "loss: 1.323566  [51264/60000]\n",
      "loss: 1.247175  [57664/60000]\n",
      "Test Error: \n",
      " Accuracy: 63.6%, Avg loss: 1.254955 \n",
      "\n",
      "Epoch 5\n",
      "-----------------------\n",
      "loss: 1.317624  [   64/60000]\n",
      "loss: 1.303965  [ 6464/60000]\n",
      "loss: 1.151541  [12864/60000]\n",
      "loss: 1.258770  [19264/60000]\n",
      "loss: 1.137461  [25664/60000]\n",
      "loss: 1.156607  [32064/60000]\n",
      "loss: 1.181100  [38464/60000]\n",
      "loss: 1.118814  [44864/60000]\n",
      "loss: 1.157946  [51264/60000]\n",
      "loss: 1.092236  [57664/60000]\n",
      "Test Error: \n",
      " Accuracy: 64.6%, Avg loss: 1.094540 \n",
      "\n",
      "Epoch 6\n",
      "-----------------------\n",
      "loss: 1.153793  [   64/60000]\n",
      "loss: 1.156962  [ 6464/60000]\n",
      "loss: 0.987428  [12864/60000]\n",
      "loss: 1.121333  [19264/60000]\n",
      "loss: 0.999192  [25664/60000]\n",
      "loss: 1.024817  [32064/60000]\n",
      "loss: 1.062038  [38464/60000]\n",
      "loss: 1.004946  [44864/60000]\n",
      "loss: 1.047079  [51264/60000]\n",
      "loss: 0.990885  [57664/60000]\n",
      "Test Error: \n",
      " Accuracy: 65.6%, Avg loss: 0.987672 \n",
      "\n",
      "Epoch 7\n",
      "-----------------------\n",
      "loss: 1.037333  [   64/60000]\n",
      "loss: 1.059524  [ 6464/60000]\n",
      "loss: 0.872881  [12864/60000]\n",
      "loss: 1.027496  [19264/60000]\n",
      "loss: 0.909520  [25664/60000]\n",
      "loss: 0.931504  [32064/60000]\n",
      "loss: 0.982747  [38464/60000]\n",
      "loss: 0.929598  [44864/60000]\n",
      "loss: 0.969829  [51264/60000]\n",
      "loss: 0.922124  [57664/60000]\n",
      "Test Error: \n",
      " Accuracy: 66.6%, Avg loss: 0.914364 \n",
      "\n",
      "Epoch 8\n",
      "-----------------------\n",
      "loss: 0.951290  [   64/60000]\n",
      "loss: 0.991967  [ 6464/60000]\n",
      "loss: 0.790772  [12864/60000]\n",
      "loss: 0.961117  [19264/60000]\n",
      "loss: 0.849683  [25664/60000]\n",
      "loss: 0.863855  [32064/60000]\n",
      "loss: 0.927257  [38464/60000]\n",
      "loss: 0.878983  [44864/60000]\n",
      "loss: 0.914251  [51264/60000]\n",
      "loss: 0.873120  [57664/60000]\n",
      "Test Error: \n",
      " Accuracy: 67.8%, Avg loss: 0.861861 \n",
      "\n",
      "Epoch 9\n",
      "-----------------------\n",
      "loss: 0.885284  [   64/60000]\n",
      "loss: 0.941717  [ 6464/60000]\n",
      "loss: 0.729653  [12864/60000]\n",
      "loss: 0.911956  [19264/60000]\n",
      "loss: 0.807274  [25664/60000]\n",
      "loss: 0.813485  [32064/60000]\n",
      "loss: 0.885476  [38464/60000]\n",
      "loss: 0.843554  [44864/60000]\n",
      "loss: 0.873001  [51264/60000]\n",
      "loss: 0.835934  [57664/60000]\n",
      "Test Error: \n",
      " Accuracy: 69.0%, Avg loss: 0.822356 \n",
      "\n",
      "Epoch 10\n",
      "-----------------------\n",
      "loss: 0.832849  [   64/60000]\n",
      "loss: 0.901726  [ 6464/60000]\n",
      "loss: 0.682142  [12864/60000]\n",
      "loss: 0.874203  [19264/60000]\n",
      "loss: 0.775213  [25664/60000]\n",
      "loss: 0.775166  [32064/60000]\n",
      "loss: 0.852133  [38464/60000]\n",
      "loss: 0.817185  [44864/60000]\n",
      "loss: 0.840778  [51264/60000]\n",
      "loss: 0.806245  [57664/60000]\n",
      "Test Error: \n",
      " Accuracy: 70.1%, Avg loss: 0.791130 \n",
      "\n",
      "Done!\n"
     ]
    }
   ],
   "source": [
    "loss_fn = nn.CrossEntropyLoss()\n",
    "optimizer = torch.optim.SGD(model.parameters(), lr=learning_rate)\n",
    "\n",
    "epochs = 10\n",
    "for t in range(epochs):\n",
    "    print(f'Epoch {t+1}\\n-----------------------')\n",
    "    train_loop(train_dataloader, model, loss_fn, optimizer)\n",
    "    test_loop(test_dataloader, model, loss_fn)\n",
    "print(\"Done!\")"
   ]
  },
  {
   "cell_type": "code",
   "execution_count": 88,
   "id": "930cb7ae",
   "metadata": {},
   "outputs": [
    {
     "name": "stdout",
     "output_type": "stream",
     "text": [
      "\tbatch数: 60000\n",
      "        (image, label): 2\n",
      "\n",
      "        [image]\n",
      "        channel: 1\n",
      "        height: 28\n",
      "        width: 28\n",
      "\n",
      "        [label]\n",
      "        9, 0, 3\n"
     ]
    }
   ],
   "source": [
    "# dataloaderの中身は、(batch, (image, label), channel, height, width))の順で格納\n",
    "print(f\"\\tbatch数: {len(train_dataloader.dataset)}\\n\\\n",
    "        (image, label): {len(train_dataloader.dataset[0])}\\n\\n\\\n",
    "        [image]\\n\\\n",
    "        channel: {len(train_dataloader.dataset[0][0])}\\n\\\n",
    "        height: {len(train_dataloader.dataset[0][0][0])}\\n\\\n",
    "        width: {len(train_dataloader.dataset[0][0][0][0])}\\n\\n\\\n",
    "        [label]\\n\\\n",
    "        {train_dataloader.dataset[0][1]}, {train_dataloader.dataset[1][1]}, {train_dataloader.dataset[3][1]}\")\n"
   ]
  },
  {
   "cell_type": "markdown",
   "id": "35128dbc",
   "metadata": {},
   "source": [
    "### Save, Load and Use Model"
   ]
  },
  {
   "cell_type": "code",
   "execution_count": null,
   "id": "740d3cea",
   "metadata": {},
   "outputs": [],
   "source": []
  }
 ],
 "metadata": {
  "kernelspec": {
   "display_name": "tutorial",
   "language": "python",
   "name": "tutorial"
  },
  "language_info": {
   "codemirror_mode": {
    "name": "ipython",
    "version": 3
   },
   "file_extension": ".py",
   "mimetype": "text/x-python",
   "name": "python",
   "nbconvert_exporter": "python",
   "pygments_lexer": "ipython3",
   "version": "3.9.23"
  }
 },
 "nbformat": 4,
 "nbformat_minor": 5
}
