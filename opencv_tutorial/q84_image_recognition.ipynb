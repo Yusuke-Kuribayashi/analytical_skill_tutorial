{
 "cells": [
  {
   "cell_type": "markdown",
   "id": "cdd8121d",
   "metadata": {},
   "source": [
    "## Q84. 簡単な画像認識(減色化+ヒストグラム)"
   ]
  }
 ],
 "metadata": {
  "language_info": {
   "name": "python"
  }
 },
 "nbformat": 4,
 "nbformat_minor": 5
}
